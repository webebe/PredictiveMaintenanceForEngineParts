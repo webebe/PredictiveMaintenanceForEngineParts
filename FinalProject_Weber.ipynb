{
 "cells": [
  {
   "cell_type": "markdown",
   "metadata": {},
   "source": [
    "# Abstract"
   ]
  },
  {
   "cell_type": "markdown",
   "metadata": {},
   "source": [
    "This report describes the analysis steps conducted on the the Naval Propulsion Plants Data Set available in the UCI machine \n",
    "learning repository.\n",
    "Goal of the analysis is to predict values of the two output variables 'GT Compressor decay state coefficient' and \n",
    "'GT turbine decay state coefficient' based on the values of 16 features representing meassurements in the vessel and \n",
    "specifically the engine compartment. Basic data exploration steps were conducted, the dataset was cleaned and normalized.\n",
    "After that the dataset was split into train and test dataset. The machine learning models applied were trained on the training \n",
    "set and then evaluated on the test dataset. Results of the analysis can be used to evaluate the state the engine, specifically \n",
    "the gas turbine compressor and turbines and to implement condition based or predictive maintenance on the vessel system.\n",
    "Algorithms applied were linear regression and descision tree regressor. Both algorithms performed well on the given test dataset. \n",
    "Decision tree based regression predicted the values of the outcome variables better that linear regression. Accuracy of the \n",
    "algorithms was measured by the mean squared error."
   ]
  },
  {
   "cell_type": "markdown",
   "metadata": {},
   "source": [
    "# Description of the dataset"
   ]
  },
  {
   "cell_type": "markdown",
   "metadata": {},
   "source": [
    "A. Coraddu, L. Oneto, A. Ghio, S. Savio, D. Anguita, M. Figari, Machine Learning Approaches for Improving Condition Based Maintenance of Naval Propulsion Plants, Journal of Engineering for the Maritime Environment, 2014, DOI: 10.1177/1475090214540874, (In Press)\n",
    "\n",
    "\"The experiments have been carried out by means of a numerical simulator of a naval vessel (Frigate) characterized by a Gas Turbine (GT) propulsion plant. The different blocks forming the complete simulator (Propeller, Hull, GT, Gear Box and Controller) have been developed and fine tuned over the year on several similar real propulsion plants. In view of these observations the available data are in agreement with a possible real vessel.\n",
    "In this release of the simulator it is also possible to take into account the performance decay over time of the GT components such as GT compressor and turbines.\n",
    "The propulsion system behaviour has been described with this parameters:\n",
    "- Ship speed (linear function of the lever position lp).\n",
    "- Compressor degradation coefficient kMc.\n",
    "- Turbine degradation coefficient kMt.\n",
    "so that each possible degradation state can be described by a combination of this triple (lp,kMt,kMc).\n",
    "The range of decay of compressor and turbine has been sampled with an uniform grid of precision 0.001 so to have a good granularity of representation.\n",
    "In particular for the compressor decay state discretization the kMc coefficient has been investigated in the domain [1; 0.95], and the turbine coefficient in the domain [1; 0.975].\n",
    "Ship speed has been investigated sampling the range of feasible speed from 3 knots to 27 knots with a granularity of representation equal to tree knots.\n",
    "A series of measures (16 features) which indirectly represents of the state of the system subject to performance decay has been acquired and stored in the dataset over the parameter's space.\"\n",
    "\n",
    "The data can be downloaded from here: https://archive.ics.uci.edu/ml/datasets/Condition+Based+Maintenance+of+Naval+Propulsion+Plants\n",
    "It consists of two .txt files containing data and headings respectivly.\n"
   ]
  },
  {
   "cell_type": "code",
   "execution_count": 5,
   "metadata": {},
   "outputs": [],
   "source": [
    "import pandas as pd\n",
    "import numpy as np\n",
    "from numpy import *\n",
    "from sklearn.preprocessing import StandardScaler\n",
    "from sklearn.tree import DecisionTreeRegressor\n",
    "from sklearn.linear_model import LinearRegression\n",
    "from sklearn.model_selection import train_test_split\n",
    "from sklearn.metrics import mean_squared_error\n",
    "from sklearn.metrics import accuracy_score\n",
    "from math import sqrt"
   ]
  },
  {
   "cell_type": "markdown",
   "metadata": {},
   "source": [
    "Lets have a quick look at the dataset and check out the names and units of the 16 predictor variables and the two output variables"
   ]
  },
  {
   "cell_type": "code",
   "execution_count": 6,
   "metadata": {},
   "outputs": [
    {
     "data": {
      "text/html": [
       "<div>\n",
       "<style scoped>\n",
       "    .dataframe tbody tr th:only-of-type {\n",
       "        vertical-align: middle;\n",
       "    }\n",
       "\n",
       "    .dataframe tbody tr th {\n",
       "        vertical-align: top;\n",
       "    }\n",
       "\n",
       "    .dataframe thead th {\n",
       "        text-align: right;\n",
       "    }\n",
       "</style>\n",
       "<table border=\"1\" class=\"dataframe\">\n",
       "  <thead>\n",
       "    <tr style=\"text-align: right;\">\n",
       "      <th></th>\n",
       "      <th>0</th>\n",
       "    </tr>\n",
       "  </thead>\n",
       "  <tbody>\n",
       "    <tr>\n",
       "      <th>0</th>\n",
       "      <td>1 - Lever position (lp) [ ]</td>\n",
       "    </tr>\n",
       "    <tr>\n",
       "      <th>1</th>\n",
       "      <td>2 - Ship speed (v) [knots]</td>\n",
       "    </tr>\n",
       "    <tr>\n",
       "      <th>2</th>\n",
       "      <td>3 - Gas Turbine shaft torque (GTT) [kN m]</td>\n",
       "    </tr>\n",
       "    <tr>\n",
       "      <th>3</th>\n",
       "      <td>4 - Gas Turbine rate of revolutions (GTn) [rpm]</td>\n",
       "    </tr>\n",
       "    <tr>\n",
       "      <th>4</th>\n",
       "      <td>5 - Gas Generator rate of revolutions (GGn) [rpm]</td>\n",
       "    </tr>\n",
       "    <tr>\n",
       "      <th>5</th>\n",
       "      <td>6 - Starboard Propeller Torque (Ts) [kN]</td>\n",
       "    </tr>\n",
       "    <tr>\n",
       "      <th>6</th>\n",
       "      <td>7 - Port Propeller Torque (Tp) [kN]</td>\n",
       "    </tr>\n",
       "    <tr>\n",
       "      <th>7</th>\n",
       "      <td>8 - HP Turbine exit temperature (T48) [C]</td>\n",
       "    </tr>\n",
       "    <tr>\n",
       "      <th>8</th>\n",
       "      <td>9 - GT Compressor inlet air temperature (T1) [C]</td>\n",
       "    </tr>\n",
       "    <tr>\n",
       "      <th>9</th>\n",
       "      <td>10 - GT Compressor outlet air temperature (T2)...</td>\n",
       "    </tr>\n",
       "    <tr>\n",
       "      <th>10</th>\n",
       "      <td>11 - HP Turbine exit pressure (P48) [bar]</td>\n",
       "    </tr>\n",
       "    <tr>\n",
       "      <th>11</th>\n",
       "      <td>12 - GT Compressor inlet air pressure (P1) [bar]</td>\n",
       "    </tr>\n",
       "    <tr>\n",
       "      <th>12</th>\n",
       "      <td>13 - GT Compressor outlet air pressure (P2) [bar]</td>\n",
       "    </tr>\n",
       "    <tr>\n",
       "      <th>13</th>\n",
       "      <td>14 - Gas Turbine exhaust gas pressure (Pexh) [...</td>\n",
       "    </tr>\n",
       "    <tr>\n",
       "      <th>14</th>\n",
       "      <td>15 - Turbine Injecton Control (TIC) [%]</td>\n",
       "    </tr>\n",
       "    <tr>\n",
       "      <th>15</th>\n",
       "      <td>16 - Fuel flow (mf) [kg/s]</td>\n",
       "    </tr>\n",
       "    <tr>\n",
       "      <th>16</th>\n",
       "      <td>17 - GT Compressor decay state coefficient.</td>\n",
       "    </tr>\n",
       "    <tr>\n",
       "      <th>17</th>\n",
       "      <td>18 - GT Turbine decay state coefficient.</td>\n",
       "    </tr>\n",
       "  </tbody>\n",
       "</table>\n",
       "</div>"
      ],
      "text/plain": [
       "                                                    0\n",
       "0                         1 - Lever position (lp) [ ]\n",
       "1                          2 - Ship speed (v) [knots]\n",
       "2           3 - Gas Turbine shaft torque (GTT) [kN m]\n",
       "3     4 - Gas Turbine rate of revolutions (GTn) [rpm]\n",
       "4   5 - Gas Generator rate of revolutions (GGn) [rpm]\n",
       "5            6 - Starboard Propeller Torque (Ts) [kN]\n",
       "6                 7 - Port Propeller Torque (Tp) [kN]\n",
       "7           8 - HP Turbine exit temperature (T48) [C]\n",
       "8    9 - GT Compressor inlet air temperature (T1) [C]\n",
       "9   10 - GT Compressor outlet air temperature (T2)...\n",
       "10          11 - HP Turbine exit pressure (P48) [bar]\n",
       "11   12 - GT Compressor inlet air pressure (P1) [bar]\n",
       "12  13 - GT Compressor outlet air pressure (P2) [bar]\n",
       "13  14 - Gas Turbine exhaust gas pressure (Pexh) [...\n",
       "14            15 - Turbine Injecton Control (TIC) [%]\n",
       "15                         16 - Fuel flow (mf) [kg/s]\n",
       "16        17 - GT Compressor decay state coefficient.\n",
       "17          18 - GT Turbine decay state coefficient. "
      ]
     },
     "execution_count": 6,
     "metadata": {},
     "output_type": "execute_result"
    }
   ],
   "source": [
    "featuredescription = pd.read_csv(\"C:/Features.txt\", header=None)\n",
    "featuredescription"
   ]
  },
  {
   "cell_type": "code",
   "execution_count": 10,
   "metadata": {},
   "outputs": [
    {
     "data": {
      "text/html": [
       "<div>\n",
       "<style scoped>\n",
       "    .dataframe tbody tr th:only-of-type {\n",
       "        vertical-align: middle;\n",
       "    }\n",
       "\n",
       "    .dataframe tbody tr th {\n",
       "        vertical-align: top;\n",
       "    }\n",
       "\n",
       "    .dataframe thead th {\n",
       "        text-align: right;\n",
       "    }\n",
       "</style>\n",
       "<table border=\"1\" class=\"dataframe\">\n",
       "  <thead>\n",
       "    <tr style=\"text-align: right;\">\n",
       "      <th></th>\n",
       "      <th>lever_position</th>\n",
       "      <th>ship_speed</th>\n",
       "      <th>gt_shaft_torque</th>\n",
       "      <th>gt_rateOfrev</th>\n",
       "      <th>gg_rateOfrev</th>\n",
       "      <th>starboard_prop_torque</th>\n",
       "      <th>port_prop_torque</th>\n",
       "      <th>hp_turbine_exittemp</th>\n",
       "      <th>gt_comp_inlet_airtemp</th>\n",
       "      <th>gt_comp_outlet_airtemp</th>\n",
       "      <th>hp_turbine_exitpressure</th>\n",
       "      <th>gt_comp_inlet_airpressure</th>\n",
       "      <th>gt_comp_outlet_airpressure</th>\n",
       "      <th>gt_exhaust_gaspressure</th>\n",
       "      <th>turbine_injection_control</th>\n",
       "      <th>fuel_flow</th>\n",
       "      <th>gt_comp_decay</th>\n",
       "      <th>gt_turbine_decay</th>\n",
       "    </tr>\n",
       "  </thead>\n",
       "  <tbody>\n",
       "    <tr>\n",
       "      <th>count</th>\n",
       "      <td>11934.000000</td>\n",
       "      <td>11934.000000</td>\n",
       "      <td>11934.000000</td>\n",
       "      <td>11934.000000</td>\n",
       "      <td>11934.000000</td>\n",
       "      <td>11934.000000</td>\n",
       "      <td>11934.000000</td>\n",
       "      <td>11934.000000</td>\n",
       "      <td>11934.0</td>\n",
       "      <td>11934.000000</td>\n",
       "      <td>11934.000000</td>\n",
       "      <td>1.193400e+04</td>\n",
       "      <td>11934.000000</td>\n",
       "      <td>11934.000000</td>\n",
       "      <td>11934.000000</td>\n",
       "      <td>11934.000000</td>\n",
       "      <td>11934.00000</td>\n",
       "      <td>11934.0000</td>\n",
       "    </tr>\n",
       "    <tr>\n",
       "      <th>mean</th>\n",
       "      <td>5.166667</td>\n",
       "      <td>15.000000</td>\n",
       "      <td>27247.498685</td>\n",
       "      <td>2136.289256</td>\n",
       "      <td>8200.947312</td>\n",
       "      <td>227.335768</td>\n",
       "      <td>227.335768</td>\n",
       "      <td>735.495446</td>\n",
       "      <td>288.0</td>\n",
       "      <td>646.215331</td>\n",
       "      <td>2.352963</td>\n",
       "      <td>9.980000e-01</td>\n",
       "      <td>12.297123</td>\n",
       "      <td>1.029474</td>\n",
       "      <td>33.641261</td>\n",
       "      <td>0.662440</td>\n",
       "      <td>0.97500</td>\n",
       "      <td>0.9875</td>\n",
       "    </tr>\n",
       "    <tr>\n",
       "      <th>std</th>\n",
       "      <td>2.626388</td>\n",
       "      <td>7.746291</td>\n",
       "      <td>22148.613155</td>\n",
       "      <td>774.083881</td>\n",
       "      <td>1091.315507</td>\n",
       "      <td>200.495889</td>\n",
       "      <td>200.495889</td>\n",
       "      <td>173.680552</td>\n",
       "      <td>0.0</td>\n",
       "      <td>72.675882</td>\n",
       "      <td>1.084770</td>\n",
       "      <td>2.533635e-13</td>\n",
       "      <td>5.337448</td>\n",
       "      <td>0.010390</td>\n",
       "      <td>25.841363</td>\n",
       "      <td>0.507132</td>\n",
       "      <td>0.01472</td>\n",
       "      <td>0.0075</td>\n",
       "    </tr>\n",
       "    <tr>\n",
       "      <th>min</th>\n",
       "      <td>1.138000</td>\n",
       "      <td>3.000000</td>\n",
       "      <td>253.547000</td>\n",
       "      <td>1307.675000</td>\n",
       "      <td>6589.002000</td>\n",
       "      <td>5.304000</td>\n",
       "      <td>5.304000</td>\n",
       "      <td>442.364000</td>\n",
       "      <td>288.0</td>\n",
       "      <td>540.442000</td>\n",
       "      <td>1.093000</td>\n",
       "      <td>9.980000e-01</td>\n",
       "      <td>5.828000</td>\n",
       "      <td>1.019000</td>\n",
       "      <td>0.000000</td>\n",
       "      <td>0.068000</td>\n",
       "      <td>0.95000</td>\n",
       "      <td>0.9750</td>\n",
       "    </tr>\n",
       "    <tr>\n",
       "      <th>25%</th>\n",
       "      <td>3.144000</td>\n",
       "      <td>9.000000</td>\n",
       "      <td>8375.883750</td>\n",
       "      <td>1386.758000</td>\n",
       "      <td>7058.324000</td>\n",
       "      <td>60.317000</td>\n",
       "      <td>60.317000</td>\n",
       "      <td>589.872750</td>\n",
       "      <td>288.0</td>\n",
       "      <td>578.092250</td>\n",
       "      <td>1.389000</td>\n",
       "      <td>9.980000e-01</td>\n",
       "      <td>7.447250</td>\n",
       "      <td>1.020000</td>\n",
       "      <td>13.677500</td>\n",
       "      <td>0.246000</td>\n",
       "      <td>0.96200</td>\n",
       "      <td>0.9810</td>\n",
       "    </tr>\n",
       "    <tr>\n",
       "      <th>50%</th>\n",
       "      <td>5.140000</td>\n",
       "      <td>15.000000</td>\n",
       "      <td>21630.659000</td>\n",
       "      <td>1924.326000</td>\n",
       "      <td>8482.081500</td>\n",
       "      <td>175.268000</td>\n",
       "      <td>175.268000</td>\n",
       "      <td>706.038000</td>\n",
       "      <td>288.0</td>\n",
       "      <td>637.141500</td>\n",
       "      <td>2.083000</td>\n",
       "      <td>9.980000e-01</td>\n",
       "      <td>11.092000</td>\n",
       "      <td>1.026000</td>\n",
       "      <td>25.276500</td>\n",
       "      <td>0.496000</td>\n",
       "      <td>0.97500</td>\n",
       "      <td>0.9875</td>\n",
       "    </tr>\n",
       "    <tr>\n",
       "      <th>75%</th>\n",
       "      <td>7.148000</td>\n",
       "      <td>21.000000</td>\n",
       "      <td>39001.426750</td>\n",
       "      <td>2678.079000</td>\n",
       "      <td>9132.606000</td>\n",
       "      <td>332.364750</td>\n",
       "      <td>332.364750</td>\n",
       "      <td>834.066250</td>\n",
       "      <td>288.0</td>\n",
       "      <td>693.924500</td>\n",
       "      <td>2.981000</td>\n",
       "      <td>9.980000e-01</td>\n",
       "      <td>15.658000</td>\n",
       "      <td>1.036000</td>\n",
       "      <td>44.552500</td>\n",
       "      <td>0.882000</td>\n",
       "      <td>0.98800</td>\n",
       "      <td>0.9940</td>\n",
       "    </tr>\n",
       "    <tr>\n",
       "      <th>max</th>\n",
       "      <td>9.300000</td>\n",
       "      <td>27.000000</td>\n",
       "      <td>72784.872000</td>\n",
       "      <td>3560.741000</td>\n",
       "      <td>9797.103000</td>\n",
       "      <td>645.249000</td>\n",
       "      <td>645.249000</td>\n",
       "      <td>1115.797000</td>\n",
       "      <td>288.0</td>\n",
       "      <td>789.094000</td>\n",
       "      <td>4.560000</td>\n",
       "      <td>9.980000e-01</td>\n",
       "      <td>23.140000</td>\n",
       "      <td>1.052000</td>\n",
       "      <td>92.556000</td>\n",
       "      <td>1.832000</td>\n",
       "      <td>1.00000</td>\n",
       "      <td>1.0000</td>\n",
       "    </tr>\n",
       "  </tbody>\n",
       "</table>\n",
       "</div>"
      ],
      "text/plain": [
       "       lever_position    ship_speed  gt_shaft_torque  gt_rateOfrev  \\\n",
       "count    11934.000000  11934.000000     11934.000000  11934.000000   \n",
       "mean         5.166667     15.000000     27247.498685   2136.289256   \n",
       "std          2.626388      7.746291     22148.613155    774.083881   \n",
       "min          1.138000      3.000000       253.547000   1307.675000   \n",
       "25%          3.144000      9.000000      8375.883750   1386.758000   \n",
       "50%          5.140000     15.000000     21630.659000   1924.326000   \n",
       "75%          7.148000     21.000000     39001.426750   2678.079000   \n",
       "max          9.300000     27.000000     72784.872000   3560.741000   \n",
       "\n",
       "       gg_rateOfrev  starboard_prop_torque  port_prop_torque  \\\n",
       "count  11934.000000           11934.000000      11934.000000   \n",
       "mean    8200.947312             227.335768        227.335768   \n",
       "std     1091.315507             200.495889        200.495889   \n",
       "min     6589.002000               5.304000          5.304000   \n",
       "25%     7058.324000              60.317000         60.317000   \n",
       "50%     8482.081500             175.268000        175.268000   \n",
       "75%     9132.606000             332.364750        332.364750   \n",
       "max     9797.103000             645.249000        645.249000   \n",
       "\n",
       "       hp_turbine_exittemp  gt_comp_inlet_airtemp  gt_comp_outlet_airtemp  \\\n",
       "count         11934.000000                11934.0            11934.000000   \n",
       "mean            735.495446                  288.0              646.215331   \n",
       "std             173.680552                    0.0               72.675882   \n",
       "min             442.364000                  288.0              540.442000   \n",
       "25%             589.872750                  288.0              578.092250   \n",
       "50%             706.038000                  288.0              637.141500   \n",
       "75%             834.066250                  288.0              693.924500   \n",
       "max            1115.797000                  288.0              789.094000   \n",
       "\n",
       "       hp_turbine_exitpressure  gt_comp_inlet_airpressure  \\\n",
       "count             11934.000000               1.193400e+04   \n",
       "mean                  2.352963               9.980000e-01   \n",
       "std                   1.084770               2.533635e-13   \n",
       "min                   1.093000               9.980000e-01   \n",
       "25%                   1.389000               9.980000e-01   \n",
       "50%                   2.083000               9.980000e-01   \n",
       "75%                   2.981000               9.980000e-01   \n",
       "max                   4.560000               9.980000e-01   \n",
       "\n",
       "       gt_comp_outlet_airpressure  gt_exhaust_gaspressure  \\\n",
       "count                11934.000000            11934.000000   \n",
       "mean                    12.297123                1.029474   \n",
       "std                      5.337448                0.010390   \n",
       "min                      5.828000                1.019000   \n",
       "25%                      7.447250                1.020000   \n",
       "50%                     11.092000                1.026000   \n",
       "75%                     15.658000                1.036000   \n",
       "max                     23.140000                1.052000   \n",
       "\n",
       "       turbine_injection_control     fuel_flow  gt_comp_decay  \\\n",
       "count               11934.000000  11934.000000    11934.00000   \n",
       "mean                   33.641261      0.662440        0.97500   \n",
       "std                    25.841363      0.507132        0.01472   \n",
       "min                     0.000000      0.068000        0.95000   \n",
       "25%                    13.677500      0.246000        0.96200   \n",
       "50%                    25.276500      0.496000        0.97500   \n",
       "75%                    44.552500      0.882000        0.98800   \n",
       "max                    92.556000      1.832000        1.00000   \n",
       "\n",
       "       gt_turbine_decay  \n",
       "count        11934.0000  \n",
       "mean             0.9875  \n",
       "std              0.0075  \n",
       "min              0.9750  \n",
       "25%              0.9810  \n",
       "50%              0.9875  \n",
       "75%              0.9940  \n",
       "max              1.0000  "
      ]
     },
     "execution_count": 10,
     "metadata": {},
     "output_type": "execute_result"
    }
   ],
   "source": [
    "#Read the dataset and check out the variables\n",
    "data = pd.read_csv(\"C:/data.txt\",sep=\" \")\n",
    "data.describe()"
   ]
  },
  {
   "cell_type": "code",
   "execution_count": 11,
   "metadata": {},
   "outputs": [
    {
     "data": {
      "text/html": [
       "<div>\n",
       "<style scoped>\n",
       "    .dataframe tbody tr th:only-of-type {\n",
       "        vertical-align: middle;\n",
       "    }\n",
       "\n",
       "    .dataframe tbody tr th {\n",
       "        vertical-align: top;\n",
       "    }\n",
       "\n",
       "    .dataframe thead th {\n",
       "        text-align: right;\n",
       "    }\n",
       "</style>\n",
       "<table border=\"1\" class=\"dataframe\">\n",
       "  <thead>\n",
       "    <tr style=\"text-align: right;\">\n",
       "      <th></th>\n",
       "      <th>lever_position</th>\n",
       "      <th>ship_speed</th>\n",
       "      <th>gt_shaft_torque</th>\n",
       "      <th>gt_rateOfrev</th>\n",
       "      <th>gg_rateOfrev</th>\n",
       "      <th>starboard_prop_torque</th>\n",
       "      <th>port_prop_torque</th>\n",
       "      <th>hp_turbine_exittemp</th>\n",
       "      <th>gt_comp_inlet_airtemp</th>\n",
       "      <th>gt_comp_outlet_airtemp</th>\n",
       "      <th>hp_turbine_exitpressure</th>\n",
       "      <th>gt_comp_inlet_airpressure</th>\n",
       "      <th>gt_comp_outlet_airpressure</th>\n",
       "      <th>gt_exhaust_gaspressure</th>\n",
       "      <th>turbine_injection_control</th>\n",
       "      <th>fuel_flow</th>\n",
       "      <th>gt_comp_decay</th>\n",
       "      <th>gt_turbine_decay</th>\n",
       "    </tr>\n",
       "  </thead>\n",
       "  <tbody>\n",
       "    <tr>\n",
       "      <th>0</th>\n",
       "      <td>1.138</td>\n",
       "      <td>3.0</td>\n",
       "      <td>289.964</td>\n",
       "      <td>1349.489</td>\n",
       "      <td>6677.380</td>\n",
       "      <td>7.584</td>\n",
       "      <td>7.584</td>\n",
       "      <td>464.006</td>\n",
       "      <td>288.0</td>\n",
       "      <td>550.563</td>\n",
       "      <td>1.096</td>\n",
       "      <td>0.998</td>\n",
       "      <td>5.947</td>\n",
       "      <td>1.019</td>\n",
       "      <td>7.137</td>\n",
       "      <td>0.082</td>\n",
       "      <td>0.95</td>\n",
       "      <td>0.975</td>\n",
       "    </tr>\n",
       "    <tr>\n",
       "      <th>1</th>\n",
       "      <td>2.088</td>\n",
       "      <td>6.0</td>\n",
       "      <td>6960.180</td>\n",
       "      <td>1376.166</td>\n",
       "      <td>6828.469</td>\n",
       "      <td>28.204</td>\n",
       "      <td>28.204</td>\n",
       "      <td>635.401</td>\n",
       "      <td>288.0</td>\n",
       "      <td>581.658</td>\n",
       "      <td>1.331</td>\n",
       "      <td>0.998</td>\n",
       "      <td>7.282</td>\n",
       "      <td>1.019</td>\n",
       "      <td>10.655</td>\n",
       "      <td>0.287</td>\n",
       "      <td>0.95</td>\n",
       "      <td>0.975</td>\n",
       "    </tr>\n",
       "    <tr>\n",
       "      <th>2</th>\n",
       "      <td>3.144</td>\n",
       "      <td>9.0</td>\n",
       "      <td>8379.229</td>\n",
       "      <td>1386.757</td>\n",
       "      <td>7111.811</td>\n",
       "      <td>60.358</td>\n",
       "      <td>60.358</td>\n",
       "      <td>606.002</td>\n",
       "      <td>288.0</td>\n",
       "      <td>587.587</td>\n",
       "      <td>1.389</td>\n",
       "      <td>0.998</td>\n",
       "      <td>7.574</td>\n",
       "      <td>1.020</td>\n",
       "      <td>13.086</td>\n",
       "      <td>0.259</td>\n",
       "      <td>0.95</td>\n",
       "      <td>0.975</td>\n",
       "    </tr>\n",
       "    <tr>\n",
       "      <th>3</th>\n",
       "      <td>4.161</td>\n",
       "      <td>12.0</td>\n",
       "      <td>14724.395</td>\n",
       "      <td>1547.465</td>\n",
       "      <td>7792.630</td>\n",
       "      <td>113.774</td>\n",
       "      <td>113.774</td>\n",
       "      <td>661.471</td>\n",
       "      <td>288.0</td>\n",
       "      <td>613.851</td>\n",
       "      <td>1.658</td>\n",
       "      <td>0.998</td>\n",
       "      <td>9.007</td>\n",
       "      <td>1.022</td>\n",
       "      <td>18.109</td>\n",
       "      <td>0.358</td>\n",
       "      <td>0.95</td>\n",
       "      <td>0.975</td>\n",
       "    </tr>\n",
       "    <tr>\n",
       "      <th>4</th>\n",
       "      <td>5.140</td>\n",
       "      <td>15.0</td>\n",
       "      <td>21636.432</td>\n",
       "      <td>1924.313</td>\n",
       "      <td>8494.777</td>\n",
       "      <td>175.306</td>\n",
       "      <td>175.306</td>\n",
       "      <td>731.494</td>\n",
       "      <td>288.0</td>\n",
       "      <td>645.642</td>\n",
       "      <td>2.078</td>\n",
       "      <td>0.998</td>\n",
       "      <td>11.197</td>\n",
       "      <td>1.026</td>\n",
       "      <td>26.373</td>\n",
       "      <td>0.522</td>\n",
       "      <td>0.95</td>\n",
       "      <td>0.975</td>\n",
       "    </tr>\n",
       "  </tbody>\n",
       "</table>\n",
       "</div>"
      ],
      "text/plain": [
       "   lever_position  ship_speed  gt_shaft_torque  gt_rateOfrev  gg_rateOfrev  \\\n",
       "0           1.138         3.0          289.964      1349.489      6677.380   \n",
       "1           2.088         6.0         6960.180      1376.166      6828.469   \n",
       "2           3.144         9.0         8379.229      1386.757      7111.811   \n",
       "3           4.161        12.0        14724.395      1547.465      7792.630   \n",
       "4           5.140        15.0        21636.432      1924.313      8494.777   \n",
       "\n",
       "   starboard_prop_torque  port_prop_torque  hp_turbine_exittemp  \\\n",
       "0                  7.584             7.584              464.006   \n",
       "1                 28.204            28.204              635.401   \n",
       "2                 60.358            60.358              606.002   \n",
       "3                113.774           113.774              661.471   \n",
       "4                175.306           175.306              731.494   \n",
       "\n",
       "   gt_comp_inlet_airtemp  gt_comp_outlet_airtemp  hp_turbine_exitpressure  \\\n",
       "0                  288.0                 550.563                    1.096   \n",
       "1                  288.0                 581.658                    1.331   \n",
       "2                  288.0                 587.587                    1.389   \n",
       "3                  288.0                 613.851                    1.658   \n",
       "4                  288.0                 645.642                    2.078   \n",
       "\n",
       "   gt_comp_inlet_airpressure  gt_comp_outlet_airpressure  \\\n",
       "0                      0.998                       5.947   \n",
       "1                      0.998                       7.282   \n",
       "2                      0.998                       7.574   \n",
       "3                      0.998                       9.007   \n",
       "4                      0.998                      11.197   \n",
       "\n",
       "   gt_exhaust_gaspressure  turbine_injection_control  fuel_flow  \\\n",
       "0                   1.019                      7.137      0.082   \n",
       "1                   1.019                     10.655      0.287   \n",
       "2                   1.020                     13.086      0.259   \n",
       "3                   1.022                     18.109      0.358   \n",
       "4                   1.026                     26.373      0.522   \n",
       "\n",
       "   gt_comp_decay  gt_turbine_decay  \n",
       "0           0.95             0.975  \n",
       "1           0.95             0.975  \n",
       "2           0.95             0.975  \n",
       "3           0.95             0.975  \n",
       "4           0.95             0.975  "
      ]
     },
     "execution_count": 11,
     "metadata": {},
     "output_type": "execute_result"
    }
   ],
   "source": [
    "data.head()"
   ]
  },
  {
   "cell_type": "code",
   "execution_count": 12,
   "metadata": {},
   "outputs": [
    {
     "data": {
      "text/plain": [
       "(11934, 18)"
      ]
     },
     "execution_count": 12,
     "metadata": {},
     "output_type": "execute_result"
    }
   ],
   "source": [
    "data.shape"
   ]
  },
  {
   "cell_type": "markdown",
   "metadata": {},
   "source": [
    "# Data cleaning and preparation"
   ]
  },
  {
   "cell_type": "code",
   "execution_count": 14,
   "metadata": {},
   "outputs": [
    {
     "data": {
      "text/plain": [
       "lever_position                False\n",
       "ship_speed                    False\n",
       "gt_shaft_torque               False\n",
       "gt_rateOfrev                  False\n",
       "gg_rateOfrev                  False\n",
       "starboard_prop_torque         False\n",
       "port_prop_torque              False\n",
       "hp_turbine_exittemp           False\n",
       "gt_comp_inlet_airtemp         False\n",
       "gt_comp_outlet_airtemp        False\n",
       "hp_turbine_exitpressure       False\n",
       "gt_comp_inlet_airpressure     False\n",
       "gt_comp_outlet_airpressure    False\n",
       "gt_exhaust_gaspressure        False\n",
       "turbine_injection_control     False\n",
       "fuel_flow                     False\n",
       "gt_comp_decay                 False\n",
       "gt_turbine_decay              False\n",
       "dtype: bool"
      ]
     },
     "execution_count": 14,
     "metadata": {},
     "output_type": "execute_result"
    }
   ],
   "source": [
    "#Remove NA values\n",
    "data = data.dropna()\n",
    "data.isna().any()"
   ]
  },
  {
   "cell_type": "code",
   "execution_count": 16,
   "metadata": {},
   "outputs": [
    {
     "data": {
      "text/plain": [
       "lever_position                6.897912e+00\n",
       "ship_speed                    6.000503e+01\n",
       "gt_shaft_torque               4.905611e+08\n",
       "gt_rateOfrev                  5.992059e+05\n",
       "gg_rateOfrev                  1.190970e+06\n",
       "starboard_prop_torque         4.019860e+04\n",
       "port_prop_torque              4.019860e+04\n",
       "hp_turbine_exittemp           3.016493e+04\n",
       "gt_comp_inlet_airtemp         0.000000e+00\n",
       "gt_comp_outlet_airtemp        5.281784e+03\n",
       "hp_turbine_exitpressure       1.176726e+00\n",
       "gt_comp_inlet_airpressure     6.419307e-26\n",
       "gt_comp_outlet_airpressure    2.848835e+01\n",
       "gt_exhaust_gaspressure        1.079587e-04\n",
       "turbine_injection_control     6.677760e+02\n",
       "fuel_flow                     2.571825e-01\n",
       "gt_comp_decay                 2.166848e-04\n",
       "gt_turbine_decay              5.625471e-05\n",
       "dtype: float64"
      ]
     },
     "execution_count": 16,
     "metadata": {},
     "output_type": "execute_result"
    }
   ],
   "source": [
    "#Check out variance in of the features\n",
    "data.var()\n"
   ]
  },
  {
   "cell_type": "markdown",
   "metadata": {},
   "source": [
    "gt_comp_inlet_airtemp doesn't have any variance across observations so we remove it because it won't be a good predictor in our models."
   ]
  },
  {
   "cell_type": "code",
   "execution_count": 17,
   "metadata": {},
   "outputs": [],
   "source": [
    "del data[\"gt_comp_inlet_airtemp\"]"
   ]
  },
  {
   "cell_type": "markdown",
   "metadata": {},
   "source": [
    "Also gt_comp_inlet_airpressure doesn't seem to have a high variance, let's check it out."
   ]
  },
  {
   "cell_type": "code",
   "execution_count": 24,
   "metadata": {},
   "outputs": [
    {
     "data": {
      "text/plain": [
       "0.998"
      ]
     },
     "execution_count": 24,
     "metadata": {},
     "output_type": "execute_result"
    }
   ],
   "source": [
    "min(data[\"gt_comp_inlet_airpressure\"])"
   ]
  },
  {
   "cell_type": "code",
   "execution_count": 26,
   "metadata": {},
   "outputs": [
    {
     "data": {
      "text/plain": [
       "0.998"
      ]
     },
     "execution_count": 26,
     "metadata": {},
     "output_type": "execute_result"
    }
   ],
   "source": [
    "max(data[\"gt_comp_inlet_airpressure\"])"
   ]
  },
  {
   "cell_type": "code",
   "execution_count": 27,
   "metadata": {},
   "outputs": [],
   "source": [
    "del data[\"gt_comp_inlet_airpressure\"]"
   ]
  },
  {
   "cell_type": "markdown",
   "metadata": {},
   "source": [
    "We also removed gt_comp_inlet_airpressure due to no variance and end up with 14 features for the prediction models. It should be noted that the dataset includes 2 output variables, \"gt_comp_decay\" and \"gt_turbine_decay\". They will be both be predicted seperatly. The features used for prediction are same for the two output variables:"
   ]
  },
  {
   "cell_type": "code",
   "execution_count": 29,
   "metadata": {},
   "outputs": [],
   "source": [
    "features = [\"lever_position\",\"ship_speed\",\"gt_shaft_torque\",\"gt_rateOfrev\",\"gg_rateOfrev\",\"starboard_prop_torque\",\n",
    "            \"port_prop_torque\",\"hp_turbine_exittemp\",\"gt_comp_outlet_airtemp\",\"hp_turbine_exitpressure\",\n",
    "            \"gt_comp_outlet_airpressure\",\"gt_exhaust_gaspressure\",\"turbine_injection_control\",\n",
    "            \"fuel_flow\"]\n",
    "target1=[\"gt_comp_decay\"]\n",
    "target2=[\"gt_turbine_decay\"]"
   ]
  },
  {
   "cell_type": "markdown",
   "metadata": {},
   "source": [
    "Due to differences in units and properties of the 14 prediction features, they will be scaled using the StandardScaler from sklearn. Also the dataset will be further prepared for the algorithms applied later. We form a set with features and output variables."
   ]
  },
  {
   "cell_type": "code",
   "execution_count": 31,
   "metadata": {},
   "outputs": [],
   "source": [
    "X = StandardScaler().fit_transform(data[features])\n",
    "y1=data[target1]\n",
    "y2=data[target2]"
   ]
  },
  {
   "cell_type": "markdown",
   "metadata": {},
   "source": [
    "# Linear Regression"
   ]
  },
  {
   "cell_type": "markdown",
   "metadata": {},
   "source": [
    "The dataset will be split in training and test datasets, the model will then be fitted on the training set and afterwards evaluated on the test set. We evaluate the accuracy of the model by calculating the round mean squared error. We calculate the rmse for our first (gt_comp_decay) and our second outcome variable (gt_turbine_decay)."
   ]
  },
  {
   "cell_type": "markdown",
   "metadata": {},
   "source": [
    "gt_comp_decay:"
   ]
  },
  {
   "cell_type": "code",
   "execution_count": 33,
   "metadata": {},
   "outputs": [
    {
     "name": "stdout",
     "output_type": "stream",
     "text": [
      "0.005949103989763792\n"
     ]
    }
   ],
   "source": [
    "X_train, X_test, y1_train, y1_test = train_test_split(X,y1,test_size=0.2,random_state=324)\n",
    "regressor=LinearRegression()\n",
    "regressor.fit(X_train,y1_train)\n",
    "y1_prediction=regressor.predict(X_test)\n",
    "rmse1 = sqrt(mean_squared_error(y_true=y1_test,y_pred=y1_prediction))\n",
    "#Print the mean ssquared prediction error\n",
    "print(rmse1)"
   ]
  },
  {
   "cell_type": "markdown",
   "metadata": {},
   "source": [
    "gt_turbine_decay:"
   ]
  },
  {
   "cell_type": "code",
   "execution_count": 35,
   "metadata": {},
   "outputs": [
    {
     "name": "stdout",
     "output_type": "stream",
     "text": [
      "0.0021941897143928205\n"
     ]
    }
   ],
   "source": [
    "X_train, X_test, y2_train, y2_test = train_test_split(X,y2,test_size=0.2,random_state=324)\n",
    "regressor=LinearRegression()\n",
    "regressor.fit(X_train,y2_train)\n",
    "y2_prediction=regressor.predict(X_test)\n",
    "rmse2 = sqrt(mean_squared_error(y_true=y2_test,y_pred=y2_prediction))\n",
    "print(rmse2)"
   ]
  },
  {
   "cell_type": "markdown",
   "metadata": {},
   "source": [
    "# Decision tree regressor"
   ]
  },
  {
   "cell_type": "markdown",
   "metadata": {},
   "source": [
    "As a comparison to the linear regression model from above we build a second model using decision tree regression. Let's check out if this model performes even better."
   ]
  },
  {
   "cell_type": "markdown",
   "metadata": {},
   "source": [
    "gt_comp_decay:"
   ]
  },
  {
   "cell_type": "code",
   "execution_count": 36,
   "metadata": {},
   "outputs": [
    {
     "name": "stdout",
     "output_type": "stream",
     "text": [
      "0.0015108187086251663\n"
     ]
    }
   ],
   "source": [
    "dtregressor1=DecisionTreeRegressor(max_depth=20)\n",
    "dtregressor1.fit(X_train,y1_train)\n",
    "y1dt_prediction=dtregressor1.predict(X_test)\n",
    "rmse_DT1 = sqrt(mean_squared_error(y_true=y1_test,y_pred=y1dt_prediction))\n",
    "print(rmse_DT1)"
   ]
  },
  {
   "cell_type": "markdown",
   "metadata": {},
   "source": [
    "gt_turbine_decay:"
   ]
  },
  {
   "cell_type": "code",
   "execution_count": 38,
   "metadata": {},
   "outputs": [
    {
     "name": "stdout",
     "output_type": "stream",
     "text": [
      "0.0013551785958606434\n"
     ]
    }
   ],
   "source": [
    "dtregressor2=DecisionTreeRegressor(max_depth=20)\n",
    "dtregressor2.fit(X_train,y2_train)\n",
    "y2dt_prediction=dtregressor2.predict(X_test)\n",
    "rmse_DT2 = sqrt(mean_squared_error(y_true=y2_test,y_pred=y2dt_prediction))\n",
    "print(rmse_DT2)"
   ]
  },
  {
   "cell_type": "markdown",
   "metadata": {},
   "source": [
    "# Results and visualization"
   ]
  },
  {
   "cell_type": "markdown",
   "metadata": {},
   "source": [
    "Let's compare accuracy of the two models regarding the prediction of the two outcome variables. Values represent the rmse values of the models applied above."
   ]
  },
  {
   "cell_type": "code",
   "execution_count": 49,
   "metadata": {},
   "outputs": [
    {
     "name": "stdout",
     "output_type": "stream",
     "text": [
      "                                                                                                                           \n",
      " Linear Regression GT comp decay  Desc. Tree GT comp decay  Linear Regression GT turbine decay  Desc. Tree GT turbine decay\n",
      "            0.005949103989763792     0.0021941897143928205               0.0015108187086251663        0.0013551785958606434\n"
     ]
    }
   ],
   "source": [
    "resultsdata = np.array([[\"Linear Regression GT comp decay\",\"Desc. Tree GT comp decay\",\n",
    "                         \"Linear Regression GT turbine decay\",\"Desc. Tree GT turbine decay\"],\n",
    "                        [rmse1,rmse2,rmse_DT1,rmse_DT2]])\n",
    "res_df = pd.DataFrame(resultsdata)\n",
    "res_df.columns = ['']*res_df.shape[1]\n",
    "print(res_df.to_string(index=False))"
   ]
  },
  {
   "cell_type": "markdown",
   "metadata": {},
   "source": [
    "We see that decision tree regressor performes better to predict the GT compressor decay and only a little better \n",
    "on the turbine decay state. Next we want to investigate which variables were the most important ones for the decision tree predictor in order to predict our two output variables GT compressor decay and GT turbine decay. We do this by plotting the features importances from the predictor as barplots."
   ]
  },
  {
   "cell_type": "code",
   "execution_count": 50,
   "metadata": {},
   "outputs": [],
   "source": [
    "feat_importances1 = pd.Series(dtregressor1.feature_importances_)\n",
    "feat_importance1_df = pd.DataFrame(feat_importances1)\n",
    "feat_importance1_df[\"feature\"]=features\n",
    "feat_importances2 = pd.Series(dtregressor2.feature_importances_)\n",
    "feat_importance2_df = pd.DataFrame(feat_importances2)\n",
    "feat_importance2_df[\"feature\"]=features"
   ]
  },
  {
   "cell_type": "markdown",
   "metadata": {},
   "source": [
    "GT compressor decay:"
   ]
  },
  {
   "cell_type": "code",
   "execution_count": 51,
   "metadata": {},
   "outputs": [
    {
     "data": {
      "text/plain": [
       "Text(0.5, 1.0, 'Feature importance for GT compressor decay')"
      ]
     },
     "execution_count": 51,
     "metadata": {},
     "output_type": "execute_result"
    },
    {
     "data": {
      "image/png": "[encoded data removed]",
      "text/plain": [
       "<Figure size 432x288 with 1 Axes>"
      ]
     },
     "metadata": {
      "needs_background": "light"
     },
     "output_type": "display_data"
    }
   ],
   "source": [
    "import matplotlib.pyplot as plt\n",
    "plt.barh(feat_importance1_df[\"feature\"],feat_importance1_df[0])\n",
    "plt.title(\"Feature importance for GT compressor decay\")"
   ]
  },
  {
   "cell_type": "markdown",
   "metadata": {},
   "source": [
    "GT turbine decay:"
   ]
  },
  {
   "cell_type": "code",
   "execution_count": 52,
   "metadata": {},
   "outputs": [
    {
     "data": {
      "text/plain": [
       "Text(0.5, 1.0, 'Feature importance for GT turbine decay')"
      ]
     },
     "execution_count": 52,
     "metadata": {},
     "output_type": "execute_result"
    },
    {
     "data": {
      "image/png": "[encoded data removed]",
      "text/plain": [
       "<Figure size 432x288 with 1 Axes>"
      ]
     },
     "metadata": {
      "needs_background": "light"
     },
     "output_type": "display_data"
    }
   ],
   "source": [
    "plt.barh(feat_importance2_df[\"feature\"],feat_importance2_df[0])\n",
    "plt.title(\"Feature importance for GT turbine decay\")\n"
   ]
  },
  {
   "cell_type": "markdown",
   "metadata": {},
   "source": [
    "# Conclusion "
   ]
  },
  {
   "cell_type": "markdown",
   "metadata": {},
   "source": [
    "We see in the plots above that the decision tree regressor uses features differntly for predicting our two ouput variables. For GT compressor decay it is the variable 'gt_comp_outlet_airtemp' that is most important for the algorithm. 'gt_comp_outlet_airpressure' is of highest importance for predicting GT turbine decay.\n",
    "Both algorithms, linear regression and decision tree regression provide good results in predicting the values of our two output variables based on the 14 features available in the dataset used.\n",
    "The difference in RSME, our measure of accuracy for the algorithms, is very small for GT turbine decay (only about 0.0002) and a little larger for GT compressor decay (0.0038).\n",
    "THe Naval Propulsion Plants Data Set yields interesting opportunities for machine learning applications. The application of other regression algorithms like GLM,GAM, quantile regression or SVM as well as a combination of several models could be the basis of a system able to assist companies in maintaining production machines. Predictive maintenance is a hot topic nowadays for any company with machines that cost a lot of money when not producing goods. Implementing a system that is able to predict a possible machine failure in time can cut down repair costs and be an important part of a efficient production environment. "
   ]
  },
  {
   "cell_type": "code",
   "execution_count": null,
   "metadata": {},
   "outputs": [],
   "source": []
  }
 ],
 "metadata": {
  "kernelspec": {
   "display_name": "Python 3",
   "language": "python",
   "name": "python3"
  },
  "language_info": {
   "codemirror_mode": {
    "name": "ipython",
    "version": 3
   },
   "file_extension": ".py",
   "mimetype": "text/x-python",
   "name": "python",
   "nbconvert_exporter": "python",
   "pygments_lexer": "ipython3",
   "version": "3.7.4"
  }
 },
 "nbformat": 4,
 "nbformat_minor": 2
}
